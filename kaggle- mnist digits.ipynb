{
  "nbformat": 4,
  "nbformat_minor": 2,
  "metadata": {
    "kernelspec": {
      "display_name": "Python 3",
      "language": "python",
      "name": "python3"
    },
    "language_info": {
      "codemirror_mode": {
        "name": "ipython",
        "version": 3
      },
      "file_extension": ".py",
      "mimetype": "text/x-python",
      "name": "python",
      "nbconvert_exporter": "python",
      "pygments_lexer": "ipython3",
      "version": "3.7.0"
    },
    "colab": {
      "name": "deep learner.ipynb",
      "provenance": [],
      "toc_visible": true
    },
    "accelerator": "GPU"
  },
  "cells": [
    {
      "cell_type": "markdown",
      "source": [
        "# Coding part"
      ],
      "metadata": {
        "id": "C_jCmHUVMaCx"
      }
    },
    {
      "cell_type": "markdown",
      "source": [
        "## Preparation (libraries, data and data exploration)"
      ],
      "metadata": {
        "id": "azsJoe-fHAW4"
      }
    },
    {
      "cell_type": "code",
      "execution_count": null,
      "source": [
        "# Improt the necessary libraries.\r\n",
        "import numpy as np\r\n",
        "import pandas as pd\r\n",
        "import tensorflow as tf\r\n",
        "from tensorflow import keras\r\n",
        "import matplotlib.pyplot as plt\r\n",
        "from tensorflow.keras import layers\r\n",
        "from sklearn.model_selection import train_test_split"
      ],
      "outputs": [],
      "metadata": {
        "_cell_guid": "b1076dfc-b9ad-4769-8c92-a6c4dae69d19",
        "_uuid": "8f2839f25d086af736a60e9eeb907d3b93b6e0e5",
        "execution": {
          "iopub.execute_input": "2021-08-06T10:26:19.084713Z",
          "iopub.status.busy": "2021-08-06T10:26:19.084372Z",
          "iopub.status.idle": "2021-08-06T10:26:19.089196Z",
          "shell.execute_reply": "2021-08-06T10:26:19.088251Z",
          "shell.execute_reply.started": "2021-08-06T10:26:19.084685Z"
        },
        "id": "Dy55ObGgC3DI"
      }
    },
    {
      "cell_type": "code",
      "execution_count": null,
      "source": [
        "# Load the data into workplace (Pull the data into floder in advance)\r\n",
        "x_data = np.load('x_data_273.npy')\r\n",
        "y_data = np.load('y_data_273.npy')\r\n",
        "x_test = np.load('x_test_273.npy')"
      ],
      "outputs": [],
      "metadata": {
        "execution": {
          "iopub.execute_input": "2021-08-06T10:26:19.091361Z",
          "iopub.status.busy": "2021-08-06T10:26:19.090909Z",
          "iopub.status.idle": "2021-08-06T10:26:19.129573Z",
          "shell.execute_reply": "2021-08-06T10:26:19.128616Z",
          "shell.execute_reply.started": "2021-08-06T10:26:19.091325Z"
        },
        "id": "jOc0vtr-C3DK"
      }
    },
    {
      "cell_type": "code",
      "execution_count": null,
      "source": [
        "# View the data and gain a quick understanding of data\r\n",
        "x_data.shape"
      ],
      "outputs": [
        {
          "output_type": "execute_result",
          "data": {
            "text/plain": [
              "(32000, 28, 56)"
            ]
          },
          "metadata": {
            "tags": []
          },
          "execution_count": 81
        }
      ],
      "metadata": {
        "execution": {
          "iopub.execute_input": "2021-08-06T10:26:19.131878Z",
          "iopub.status.busy": "2021-08-06T10:26:19.131456Z",
          "iopub.status.idle": "2021-08-06T10:26:19.138578Z",
          "shell.execute_reply": "2021-08-06T10:26:19.137384Z",
          "shell.execute_reply.started": "2021-08-06T10:26:19.131837Z"
        },
        "id": "RqlS_Z8gC3DL",
        "colab": {
          "base_uri": "https://localhost:8080/"
        },
        "outputId": "1f8dfada-74e2-4119-9f14-11a2a4cb6f0b"
      }
    },
    {
      "cell_type": "code",
      "execution_count": null,
      "source": [
        "y_data"
      ],
      "outputs": [
        {
          "output_type": "execute_result",
          "data": {
            "text/plain": [
              "array([8, 6, 5, ..., 6, 1, 1], dtype=uint8)"
            ]
          },
          "metadata": {
            "tags": []
          },
          "execution_count": 82
        }
      ],
      "metadata": {
        "execution": {
          "iopub.execute_input": "2021-08-06T10:26:19.141102Z",
          "iopub.status.busy": "2021-08-06T10:26:19.140534Z",
          "iopub.status.idle": "2021-08-06T10:26:19.150242Z",
          "shell.execute_reply": "2021-08-06T10:26:19.149313Z",
          "shell.execute_reply.started": "2021-08-06T10:26:19.140918Z"
        },
        "id": "OMS874zQC3DL",
        "colab": {
          "base_uri": "https://localhost:8080/"
        },
        "outputId": "11da5b35-a4c9-4cba-f6e1-62fa33f75d47"
      }
    },
    {
      "cell_type": "code",
      "execution_count": null,
      "source": [
        "# Devide the data into train data and validation data\r\n",
        "X_train,X_val,y_train,y_val = train_test_split(x_data,y_data,\r\n",
        "                         test_size=0.4,\r\n",
        "                         random_state=0)"
      ],
      "outputs": [],
      "metadata": {
        "execution": {
          "iopub.execute_input": "2021-08-06T10:30:20.046513Z",
          "iopub.status.busy": "2021-08-06T10:30:20.046081Z",
          "iopub.status.idle": "2021-08-06T10:30:20.052158Z",
          "shell.execute_reply": "2021-08-06T10:30:20.051010Z",
          "shell.execute_reply.started": "2021-08-06T10:30:20.046480Z"
        },
        "id": "H2AphuvWC3DO"
      }
    },
    {
      "cell_type": "markdown",
      "source": [
        "## Number Switching to double the training data\n",
        "\n",
        "Because the lable of each input return the biggest number of the data, switching the position of two numbers in the data will not change the result.By doing so, it doubles the training data in hand."
      ],
      "metadata": {
        "id": "xFo1vjyhLjcS"
      }
    },
    {
      "cell_type": "code",
      "execution_count": null,
      "source": [
        "# Creating new data by switching the position of two numbers in each input.\r\n",
        "X_train2 = np.full_like(X_train , 0)\r\n",
        "for i in range(0,len(X_train),1):\r\n",
        "    A = X_train[i][:,0:28]\r\n",
        "    X_train2[i] = np.c_[X_train[i][:,28:56],A]\r\n",
        "X_train2.shape"
      ],
      "outputs": [
        {
          "output_type": "execute_result",
          "data": {
            "text/plain": [
              "(19200, 28, 56)"
            ]
          },
          "metadata": {
            "tags": []
          },
          "execution_count": 84
        }
      ],
      "metadata": {
        "id": "Tve6Ec6yXmEb",
        "colab": {
          "base_uri": "https://localhost:8080/"
        },
        "outputId": "d39c2473-488f-43ee-e429-574ba165a738"
      }
    },
    {
      "cell_type": "code",
      "execution_count": null,
      "source": [
        "# Combine the new training data with the original training data.\r\n",
        "X_train = np.r_[X_train,X_train2]\r\n",
        "X_train.shape"
      ],
      "outputs": [
        {
          "output_type": "execute_result",
          "data": {
            "text/plain": [
              "(38400, 28, 56)"
            ]
          },
          "metadata": {
            "tags": []
          },
          "execution_count": 85
        }
      ],
      "metadata": {
        "id": "wcWCpMT0XqnG",
        "colab": {
          "base_uri": "https://localhost:8080/"
        },
        "outputId": "fcd5ca2c-883a-4d91-9d96-583a5c6f790f"
      }
    },
    {
      "cell_type": "code",
      "execution_count": null,
      "source": [
        "# update the label of new training data.\r\n",
        "y_train = np.r_[y_train,y_train]\r\n",
        "y_train.shape"
      ],
      "outputs": [
        {
          "output_type": "execute_result",
          "data": {
            "text/plain": [
              "(38400,)"
            ]
          },
          "metadata": {
            "tags": []
          },
          "execution_count": 86
        }
      ],
      "metadata": {
        "id": "7d5ezAzrXwIm",
        "colab": {
          "base_uri": "https://localhost:8080/"
        },
        "outputId": "f67d59e5-f98c-4902-df7c-22ebd45604d6"
      }
    },
    {
      "cell_type": "code",
      "execution_count": null,
      "source": [
        "# check the result\r\n",
        "plt.imshow(X_train[65])\r\n",
        "y_train[65]"
      ],
      "outputs": [
        {
          "output_type": "execute_result",
          "data": {
            "text/plain": [
              "9"
            ]
          },
          "metadata": {
            "tags": []
          },
          "execution_count": 87
        },
        {
          "output_type": "display_data",
          "data": {
            "text/plain": [
              "<Figure size 432x288 with 1 Axes>"
            ],
            "image/png": "[encoded data removed]"
          },
          "metadata": {
            "tags": [],
            "needs_background": "light"
          }
        }
      ],
      "metadata": {
        "execution": {
          "iopub.execute_input": "2021-08-06T10:26:19.152094Z",
          "iopub.status.busy": "2021-08-06T10:26:19.151748Z",
          "iopub.status.idle": "2021-08-06T10:26:19.351491Z",
          "shell.execute_reply": "2021-08-06T10:26:19.350444Z",
          "shell.execute_reply.started": "2021-08-06T10:26:19.152061Z"
        },
        "id": "-Ucl1JbKC3DM",
        "colab": {
          "base_uri": "https://localhost:8080/",
          "height": 233
        },
        "outputId": "0c2ac230-70a0-49af-b3e2-c662c9369bc9"
      }
    },
    {
      "cell_type": "code",
      "execution_count": null,
      "source": [
        "plt.imshow(X_train[len(X_train2) + 65])\r\n",
        "y_train[len(X_train2) + 65]"
      ],
      "outputs": [
        {
          "output_type": "execute_result",
          "data": {
            "text/plain": [
              "9"
            ]
          },
          "metadata": {
            "tags": []
          },
          "execution_count": 88
        },
        {
          "output_type": "display_data",
          "data": {
            "text/plain": [
              "<Figure size 432x288 with 1 Axes>"
            ],
            "image/png": "[encoded data removed]"
          },
          "metadata": {
            "tags": [],
            "needs_background": "light"
          }
        }
      ],
      "metadata": {
        "id": "-APRILQIX6Hg",
        "colab": {
          "base_uri": "https://localhost:8080/",
          "height": 233
        },
        "outputId": "9fd1df38-d96c-40a3-ea51-269dff5959e7"
      }
    },
    {
      "cell_type": "markdown",
      "source": [
        "## Create the Model and feed the data"
      ],
      "metadata": {
        "id": "PaF9e1ehT11L"
      }
    },
    {
      "cell_type": "code",
      "execution_count": null,
      "source": [
        "# scale \r\n",
        "X_train = X_train.astype('float32')/255\r\n",
        "X_train = np.expand_dims(X_train, axis=-1)"
      ],
      "outputs": [],
      "metadata": {
        "execution": {
          "iopub.execute_input": "2021-08-06T10:26:19.353461Z",
          "iopub.status.busy": "2021-08-06T10:26:19.353055Z",
          "iopub.status.idle": "2021-08-06T10:26:19.426897Z",
          "shell.execute_reply": "2021-08-06T10:26:19.426037Z",
          "shell.execute_reply.started": "2021-08-06T10:26:19.353422Z"
        },
        "id": "LNMaCkblC3DM"
      }
    },
    {
      "cell_type": "code",
      "execution_count": null,
      "source": [
        "X_val = X_val.astype('float32')/255\r\n",
        "X_val = np.expand_dims(X_val, axis=-1)"
      ],
      "outputs": [],
      "metadata": {
        "id": "F1OW5BQmkdR-"
      }
    },
    {
      "cell_type": "code",
      "execution_count": null,
      "source": [
        "data_augmentation = keras.Sequential(\r\n",
        "    [\r\n",
        "        layers.experimental.preprocessing.RandomRotation(0.1),\r\n",
        "        layers.experimental.preprocessing.RandomZoom(0.2),\r\n",
        "        layers.experimental.preprocessing.RandomContrast(0.2),\r\n",
        "    ]\r\n",
        ")"
      ],
      "outputs": [],
      "metadata": {
        "execution": {
          "iopub.execute_input": "2021-08-06T10:30:05.553151Z",
          "iopub.status.busy": "2021-08-06T10:30:05.552819Z",
          "iopub.status.idle": "2021-08-06T10:30:05.575972Z",
          "shell.execute_reply": "2021-08-06T10:30:05.575182Z",
          "shell.execute_reply.started": "2021-08-06T10:30:05.553109Z"
        },
        "id": "AiF9WIOQC3DM"
      }
    },
    {
      "cell_type": "code",
      "execution_count": null,
      "source": [
        "x_train = keras.Input(shape=(28, 56, 1))\r\n",
        "x = data_augmentation(x_train)\r\n",
        "x = layers.Conv2D(32, 2, use_bias=False, padding='same')(x)\r\n",
        "x = layers.BatchNormalization()(x)\r\n",
        "x = layers.Activation(\"relu\")(x)\r\n",
        "x = layers.Conv2D(32, 3, use_bias=False, padding='same')(x)\r\n",
        "x = layers.BatchNormalization()(x)\r\n",
        "x = layers.Activation(\"relu\")(x)\r\n",
        "x = layers.MaxPooling2D(pool_size=2)(x)\r\n",
        "x = layers.Conv2D(filters=64, kernel_size=3, activation='relu', padding='same')(x)\r\n",
        "x = layers.MaxPooling2D(pool_size=2)(x)\r\n",
        "x = layers.Conv2D(128, 3, use_bias=False, padding='same')(x)\r\n",
        "x = layers.BatchNormalization()(x)\r\n",
        "x = layers.Activation(\"relu\")(x)\r\n",
        "x = layers.Conv2D(filters=128, kernel_size=4, activation='relu', padding='same')(x)\r\n",
        "x = layers.MaxPooling2D(pool_size=2)(x)\r\n",
        "x = layers.Conv2D(filters=256, kernel_size=4, activation='relu', padding='same')(x)\r\n",
        "# x = layers.MaxPooling2D(pool_size=2)(x)\r\n",
        "\r\n",
        "x = layers.Flatten()(x)\r\n",
        "x = layers.Dense(512, activation=\"relu\")(x)\r\n",
        "x = layers.Dropout(0.5)(x)\r\n",
        "x = layers.Dense(256, activation=\"relu\")(x)\r\n",
        "x = layers.Dropout(0.5)(x)\r\n",
        "outputs = layers.Dense(10, activation=\"softmax\")(x)\r\n",
        "model = keras.Model(inputs=x_train, outputs=outputs)"
      ],
      "outputs": [],
      "metadata": {
        "execution": {
          "iopub.execute_input": "2021-08-06T10:30:08.983367Z",
          "iopub.status.busy": "2021-08-06T10:30:08.982975Z",
          "iopub.status.idle": "2021-08-06T10:30:09.263063Z",
          "shell.execute_reply": "2021-08-06T10:30:09.262197Z",
          "shell.execute_reply.started": "2021-08-06T10:30:08.983334Z"
        },
        "id": "f-yjM3teC3DN"
      }
    },
    {
      "cell_type": "code",
      "execution_count": null,
      "source": [
        "model.summary()"
      ],
      "outputs": [
        {
          "output_type": "stream",
          "name": "stdout",
          "text": [
            "Model: \"model_4\"\n",
            "_________________________________________________________________\n",
            "Layer (type)                 Output Shape              Param #   \n",
            "=================================================================\n",
            "input_5 (InputLayer)         [(None, 28, 56, 1)]       0         \n",
            "_________________________________________________________________\n",
            "sequential_3 (Sequential)    (None, 28, 56, 1)         0         \n",
            "_________________________________________________________________\n",
            "conv2d_24 (Conv2D)           (None, 28, 56, 32)        128       \n",
            "_________________________________________________________________\n",
            "batch_normalization_9 (Batch (None, 28, 56, 32)        128       \n",
            "_________________________________________________________________\n",
            "activation_9 (Activation)    (None, 28, 56, 32)        0         \n",
            "_________________________________________________________________\n",
            "conv2d_25 (Conv2D)           (None, 28, 56, 32)        9216      \n",
            "_________________________________________________________________\n",
            "batch_normalization_10 (Batc (None, 28, 56, 32)        128       \n",
            "_________________________________________________________________\n",
            "activation_10 (Activation)   (None, 28, 56, 32)        0         \n",
            "_________________________________________________________________\n",
            "max_pooling2d_12 (MaxPooling (None, 14, 28, 32)        0         \n",
            "_________________________________________________________________\n",
            "conv2d_26 (Conv2D)           (None, 14, 28, 64)        18496     \n",
            "_________________________________________________________________\n",
            "max_pooling2d_13 (MaxPooling (None, 7, 14, 64)         0         \n",
            "_________________________________________________________________\n",
            "conv2d_27 (Conv2D)           (None, 7, 14, 128)        73728     \n",
            "_________________________________________________________________\n",
            "batch_normalization_11 (Batc (None, 7, 14, 128)        512       \n",
            "_________________________________________________________________\n",
            "activation_11 (Activation)   (None, 7, 14, 128)        0         \n",
            "_________________________________________________________________\n",
            "conv2d_28 (Conv2D)           (None, 7, 14, 128)        262272    \n",
            "_________________________________________________________________\n",
            "max_pooling2d_14 (MaxPooling (None, 3, 7, 128)         0         \n",
            "_________________________________________________________________\n",
            "conv2d_29 (Conv2D)           (None, 3, 7, 256)         524544    \n",
            "_________________________________________________________________\n",
            "flatten_4 (Flatten)          (None, 5376)              0         \n",
            "_________________________________________________________________\n",
            "dense_12 (Dense)             (None, 512)               2753024   \n",
            "_________________________________________________________________\n",
            "dropout_8 (Dropout)          (None, 512)               0         \n",
            "_________________________________________________________________\n",
            "dense_13 (Dense)             (None, 256)               131328    \n",
            "_________________________________________________________________\n",
            "dropout_9 (Dropout)          (None, 256)               0         \n",
            "_________________________________________________________________\n",
            "dense_14 (Dense)             (None, 10)                2570      \n",
            "=================================================================\n",
            "Total params: 3,776,074\n",
            "Trainable params: 3,775,690\n",
            "Non-trainable params: 384\n",
            "_________________________________________________________________\n"
          ]
        }
      ],
      "metadata": {
        "execution": {
          "iopub.execute_input": "2021-08-06T10:30:11.614012Z",
          "iopub.status.busy": "2021-08-06T10:30:11.613677Z",
          "iopub.status.idle": "2021-08-06T10:30:11.630727Z",
          "shell.execute_reply": "2021-08-06T10:30:11.629696Z",
          "shell.execute_reply.started": "2021-08-06T10:30:11.613982Z"
        },
        "id": "sILwMq4CC3DN",
        "colab": {
          "base_uri": "https://localhost:8080/"
        },
        "outputId": "f681ec29-2f8e-4833-d908-4ccea225982e"
      }
    },
    {
      "cell_type": "code",
      "execution_count": null,
      "source": [
        "model.compile(optimizer=keras.optimizers.Adam(lr=0.0005, beta_1=0.9, beta_2=0.999, epsilon=None, decay=0.0001, amsgrad=False),\r\n",
        "             loss = tf.keras.losses.SparseCategoricalCrossentropy(from_logits=True),\r\n",
        "             metrics=['accuracy'])"
      ],
      "outputs": [
        {
          "output_type": "stream",
          "name": "stderr",
          "text": [
            "/usr/local/lib/python3.7/dist-packages/tensorflow/python/keras/optimizer_v2/optimizer_v2.py:375: UserWarning: The `lr` argument is deprecated, use `learning_rate` instead.\n",
            "  \"The `lr` argument is deprecated, use `learning_rate` instead.\")\n"
          ]
        }
      ],
      "metadata": {
        "execution": {
          "iopub.execute_input": "2021-08-06T10:30:14.838300Z",
          "iopub.status.busy": "2021-08-06T10:30:14.837929Z",
          "iopub.status.idle": "2021-08-06T10:30:14.851684Z",
          "shell.execute_reply": "2021-08-06T10:30:14.850749Z",
          "shell.execute_reply.started": "2021-08-06T10:30:14.838267Z"
        },
        "id": "lRV3lFfZC3DO",
        "colab": {
          "base_uri": "https://localhost:8080/"
        },
        "outputId": "e826b594-b1cf-4398-8ff6-d2533a4ed4e3"
      }
    },
    {
      "cell_type": "code",
      "execution_count": null,
      "source": [
        "callbacks_list = [\r\n",
        "    keras.callbacks.EarlyStopping(\r\n",
        "        monitor=\"accuracy\",\r\n",
        "        patience=4,\r\n",
        "    ),\r\n",
        "    keras.callbacks.ModelCheckpoint(\r\n",
        "        filepath=\"checkpoint_path.keras\",\r\n",
        "        monitor=\"val_accuracy\",\r\n",
        "        save_best_only=True,\r\n",
        "    )\r\n",
        "]"
      ],
      "outputs": [],
      "metadata": {
        "execution": {
          "iopub.execute_input": "2021-08-06T10:30:26.761067Z",
          "iopub.status.busy": "2021-08-06T10:30:26.760743Z",
          "iopub.status.idle": "2021-08-06T10:30:26.765571Z",
          "shell.execute_reply": "2021-08-06T10:30:26.764502Z",
          "shell.execute_reply.started": "2021-08-06T10:30:26.761037Z"
        },
        "id": "wy-QF6-kC3DP"
      }
    },
    {
      "cell_type": "code",
      "execution_count": null,
      "source": [
        "X_train.shape"
      ],
      "outputs": [
        {
          "output_type": "execute_result",
          "data": {
            "text/plain": [
              "(38400, 28, 56, 1)"
            ]
          },
          "metadata": {
            "tags": []
          },
          "execution_count": 96
        }
      ],
      "metadata": {
        "id": "YzFk6yFlmeXH",
        "colab": {
          "base_uri": "https://localhost:8080/"
        },
        "outputId": "a425c381-8caf-4077-ed6b-c89105b5cbd3"
      }
    },
    {
      "cell_type": "code",
      "execution_count": null,
      "source": [
        "history = model.fit(X_train,\r\n",
        "           y_train,\r\n",
        "           epochs=50,\r\n",
        "           batch_size=512,\r\n",
        "           callbacks=callbacks_list,\r\n",
        "           validation_data=(X_val,y_val))"
      ],
      "outputs": [
        {
          "output_type": "stream",
          "name": "stdout",
          "text": [
            "Epoch 1/50\n"
          ]
        },
        {
          "output_type": "stream",
          "name": "stderr",
          "text": [
            "/usr/local/lib/python3.7/dist-packages/tensorflow/python/keras/backend.py:4930: UserWarning: \"`sparse_categorical_crossentropy` received `from_logits=True`, but the `output` argument was produced by a sigmoid or softmax activation and thus does not represent logits. Was this intended?\"\n",
            "  '\"`sparse_categorical_crossentropy` received `from_logits=True`, but '\n"
          ]
        },
        {
          "output_type": "stream",
          "name": "stdout",
          "text": [
            "75/75 [==============================] - 11s 130ms/step - loss: 1.8732 - accuracy: 0.3019 - val_loss: 2.2527 - val_accuracy: 0.1488\n",
            "Epoch 2/50\n",
            "75/75 [==============================] - 9s 122ms/step - loss: 0.9225 - accuracy: 0.6921 - val_loss: 2.3983 - val_accuracy: 0.0895\n",
            "Epoch 3/50\n",
            "75/75 [==============================] - 10s 130ms/step - loss: 0.5186 - accuracy: 0.8336 - val_loss: 2.1022 - val_accuracy: 0.2002\n",
            "Epoch 4/50\n",
            "75/75 [==============================] - 10s 129ms/step - loss: 0.3804 - accuracy: 0.8834 - val_loss: 1.3133 - val_accuracy: 0.5725\n",
            "Epoch 5/50\n",
            "75/75 [==============================] - 9s 122ms/step - loss: 0.3055 - accuracy: 0.9059 - val_loss: 0.7026 - val_accuracy: 0.8106\n",
            "Epoch 6/50\n",
            "75/75 [==============================] - 10s 129ms/step - loss: 0.2544 - accuracy: 0.9215 - val_loss: 0.6323 - val_accuracy: 0.8002\n",
            "Epoch 7/50\n",
            "75/75 [==============================] - 9s 122ms/step - loss: 0.2259 - accuracy: 0.9312 - val_loss: 0.2902 - val_accuracy: 0.9055\n",
            "Epoch 8/50\n",
            "75/75 [==============================] - 10s 130ms/step - loss: 0.2093 - accuracy: 0.9368 - val_loss: 0.2617 - val_accuracy: 0.9179\n",
            "Epoch 9/50\n",
            "75/75 [==============================] - 9s 123ms/step - loss: 0.1949 - accuracy: 0.9405 - val_loss: 0.0782 - val_accuracy: 0.9780\n",
            "Epoch 10/50\n",
            "75/75 [==============================] - 9s 122ms/step - loss: 0.1722 - accuracy: 0.9476 - val_loss: 0.0804 - val_accuracy: 0.9762\n",
            "Epoch 11/50\n",
            "75/75 [==============================] - 9s 124ms/step - loss: 0.1645 - accuracy: 0.9496 - val_loss: 0.0805 - val_accuracy: 0.9774\n",
            "Epoch 12/50\n",
            "75/75 [==============================] - 9s 124ms/step - loss: 0.1589 - accuracy: 0.9521 - val_loss: 0.0712 - val_accuracy: 0.9811\n",
            "Epoch 13/50\n",
            "75/75 [==============================] - 9s 124ms/step - loss: 0.1465 - accuracy: 0.9552 - val_loss: 0.2010 - val_accuracy: 0.9480\n",
            "Epoch 14/50\n",
            "75/75 [==============================] - 9s 124ms/step - loss: 0.1391 - accuracy: 0.9580 - val_loss: 0.0639 - val_accuracy: 0.9830\n",
            "Epoch 15/50\n",
            "75/75 [==============================] - 9s 123ms/step - loss: 0.1338 - accuracy: 0.9585 - val_loss: 0.1120 - val_accuracy: 0.9722\n",
            "Epoch 16/50\n",
            "75/75 [==============================] - 10s 132ms/step - loss: 0.1261 - accuracy: 0.9620 - val_loss: 0.0758 - val_accuracy: 0.9802\n",
            "Epoch 17/50\n",
            "75/75 [==============================] - 10s 131ms/step - loss: 0.1201 - accuracy: 0.9631 - val_loss: 0.0660 - val_accuracy: 0.9830\n",
            "Epoch 18/50\n",
            "75/75 [==============================] - 9s 124ms/step - loss: 0.1168 - accuracy: 0.9653 - val_loss: 0.0694 - val_accuracy: 0.9830\n",
            "Epoch 19/50\n",
            "75/75 [==============================] - 9s 124ms/step - loss: 0.1100 - accuracy: 0.9668 - val_loss: 0.0587 - val_accuracy: 0.9846\n",
            "Epoch 20/50\n",
            "75/75 [==============================] - 10s 130ms/step - loss: 0.1145 - accuracy: 0.9655 - val_loss: 0.1099 - val_accuracy: 0.9723\n",
            "Epoch 21/50\n",
            "75/75 [==============================] - 9s 124ms/step - loss: 0.1011 - accuracy: 0.9691 - val_loss: 0.0750 - val_accuracy: 0.9798\n",
            "Epoch 22/50\n",
            "75/75 [==============================] - 9s 124ms/step - loss: 0.0920 - accuracy: 0.9720 - val_loss: 0.0685 - val_accuracy: 0.9824\n",
            "Epoch 23/50\n",
            "75/75 [==============================] - 10s 131ms/step - loss: 0.0955 - accuracy: 0.9702 - val_loss: 0.0795 - val_accuracy: 0.9784\n",
            "Epoch 24/50\n",
            "75/75 [==============================] - 9s 124ms/step - loss: 0.0956 - accuracy: 0.9699 - val_loss: 0.0685 - val_accuracy: 0.9816\n",
            "Epoch 25/50\n",
            "75/75 [==============================] - 10s 131ms/step - loss: 0.0874 - accuracy: 0.9735 - val_loss: 0.0868 - val_accuracy: 0.9788\n",
            "Epoch 26/50\n",
            "75/75 [==============================] - 10s 131ms/step - loss: 0.0844 - accuracy: 0.9744 - val_loss: 0.0753 - val_accuracy: 0.9813\n",
            "Epoch 27/50\n",
            "75/75 [==============================] - 10s 131ms/step - loss: 0.0806 - accuracy: 0.9746 - val_loss: 0.0526 - val_accuracy: 0.9859\n",
            "Epoch 28/50\n",
            "75/75 [==============================] - 9s 125ms/step - loss: 0.0793 - accuracy: 0.9754 - val_loss: 0.0585 - val_accuracy: 0.9847\n",
            "Epoch 29/50\n",
            "75/75 [==============================] - 9s 124ms/step - loss: 0.0760 - accuracy: 0.9761 - val_loss: 0.0710 - val_accuracy: 0.9820\n",
            "Epoch 30/50\n",
            "75/75 [==============================] - 9s 124ms/step - loss: 0.0804 - accuracy: 0.9753 - val_loss: 0.0454 - val_accuracy: 0.9884\n",
            "Epoch 31/50\n",
            "75/75 [==============================] - 10s 131ms/step - loss: 0.0716 - accuracy: 0.9773 - val_loss: 0.0695 - val_accuracy: 0.9823\n",
            "Epoch 32/50\n",
            "75/75 [==============================] - 10s 130ms/step - loss: 0.0743 - accuracy: 0.9775 - val_loss: 0.0727 - val_accuracy: 0.9822\n",
            "Epoch 33/50\n",
            "75/75 [==============================] - 10s 131ms/step - loss: 0.0718 - accuracy: 0.9782 - val_loss: 0.0604 - val_accuracy: 0.9845\n",
            "Epoch 34/50\n",
            "75/75 [==============================] - 10s 131ms/step - loss: 0.0690 - accuracy: 0.9792 - val_loss: 0.0465 - val_accuracy: 0.9887\n",
            "Epoch 35/50\n",
            "75/75 [==============================] - 10s 131ms/step - loss: 0.0671 - accuracy: 0.9791 - val_loss: 0.0622 - val_accuracy: 0.9847\n",
            "Epoch 36/50\n",
            "75/75 [==============================] - 9s 124ms/step - loss: 0.0651 - accuracy: 0.9795 - val_loss: 0.0574 - val_accuracy: 0.9858\n",
            "Epoch 37/50\n",
            "75/75 [==============================] - 9s 124ms/step - loss: 0.0618 - accuracy: 0.9808 - val_loss: 0.0858 - val_accuracy: 0.9804\n",
            "Epoch 38/50\n",
            "75/75 [==============================] - 9s 125ms/step - loss: 0.0661 - accuracy: 0.9795 - val_loss: 0.0716 - val_accuracy: 0.9846\n",
            "Epoch 39/50\n",
            "75/75 [==============================] - 9s 125ms/step - loss: 0.0636 - accuracy: 0.9798 - val_loss: 0.0500 - val_accuracy: 0.9877\n",
            "Epoch 40/50\n",
            "75/75 [==============================] - 10s 131ms/step - loss: 0.0599 - accuracy: 0.9811 - val_loss: 0.0643 - val_accuracy: 0.9827\n",
            "Epoch 41/50\n",
            "75/75 [==============================] - 9s 125ms/step - loss: 0.0575 - accuracy: 0.9820 - val_loss: 0.0621 - val_accuracy: 0.9847\n",
            "Epoch 42/50\n",
            "75/75 [==============================] - 10s 132ms/step - loss: 0.0546 - accuracy: 0.9827 - val_loss: 0.0518 - val_accuracy: 0.9862\n",
            "Epoch 43/50\n",
            "75/75 [==============================] - 9s 124ms/step - loss: 0.0558 - accuracy: 0.9825 - val_loss: 0.0817 - val_accuracy: 0.9816\n",
            "Epoch 44/50\n",
            "75/75 [==============================] - 9s 124ms/step - loss: 0.0559 - accuracy: 0.9830 - val_loss: 0.0697 - val_accuracy: 0.9845\n",
            "Epoch 45/50\n",
            "75/75 [==============================] - 9s 125ms/step - loss: 0.0544 - accuracy: 0.9833 - val_loss: 0.0554 - val_accuracy: 0.9866\n",
            "Epoch 46/50\n",
            "75/75 [==============================] - 10s 131ms/step - loss: 0.0521 - accuracy: 0.9835 - val_loss: 0.1298 - val_accuracy: 0.9707\n",
            "Epoch 47/50\n",
            "75/75 [==============================] - 9s 124ms/step - loss: 0.0492 - accuracy: 0.9846 - val_loss: 0.0605 - val_accuracy: 0.9833\n",
            "Epoch 48/50\n",
            "75/75 [==============================] - 10s 131ms/step - loss: 0.0547 - accuracy: 0.9824 - val_loss: 0.0585 - val_accuracy: 0.9869\n",
            "Epoch 49/50\n",
            "75/75 [==============================] - 9s 125ms/step - loss: 0.0530 - accuracy: 0.9841 - val_loss: 0.0499 - val_accuracy: 0.9875\n",
            "Epoch 50/50\n",
            "75/75 [==============================] - 9s 124ms/step - loss: 0.0477 - accuracy: 0.9857 - val_loss: 0.0549 - val_accuracy: 0.9855\n"
          ]
        }
      ],
      "metadata": {
        "execution": {
          "iopub.execute_input": "2021-08-06T10:30:30.955000Z",
          "iopub.status.busy": "2021-08-06T10:30:30.954669Z",
          "iopub.status.idle": "2021-08-06T10:31:00.175953Z",
          "shell.execute_reply": "2021-08-06T10:31:00.175102Z",
          "shell.execute_reply.started": "2021-08-06T10:30:30.954970Z"
        },
        "id": "jBM2TFIGC3DP",
        "colab": {
          "base_uri": "https://localhost:8080/"
        },
        "outputId": "8de69581-b025-4560-a765-3ad04927216e"
      }
    },
    {
      "cell_type": "code",
      "execution_count": null,
      "source": [
        "val_loss = history.history[\"val_loss\"]\r\n",
        "epochs = range(1, len(val_loss) + 1)\r\n",
        "plt.plot(epochs, val_loss, \"b--\",\r\n",
        "         label=\"Validation loss\")\r\n",
        "plt.title(\"Effect of insufficient model capacity on validation loss\")\r\n",
        "plt.xlabel(\"Epochs\")\r\n",
        "plt.ylabel(\"Loss\")\r\n",
        "plt.legend()"
      ],
      "outputs": [
        {
          "output_type": "execute_result",
          "data": {
            "text/plain": [
              "<matplotlib.legend.Legend at 0x7f30380e5210>"
            ]
          },
          "metadata": {
            "tags": []
          },
          "execution_count": 75
        },
        {
          "output_type": "display_data",
          "data": {
            "text/plain": [
              "<Figure size 432x288 with 1 Axes>"
            ],
            "image/png": "[encoded data removed]"
          },
          "metadata": {
            "tags": [],
            "needs_background": "light"
          }
        }
      ],
      "metadata": {
        "execution": {
          "iopub.execute_input": "2021-08-06T10:31:03.077394Z",
          "iopub.status.busy": "2021-08-06T10:31:03.076996Z",
          "iopub.status.idle": "2021-08-06T10:31:03.252978Z",
          "shell.execute_reply": "2021-08-06T10:31:03.251889Z",
          "shell.execute_reply.started": "2021-08-06T10:31:03.077360Z"
        },
        "id": "R7NSvMyOC3DP",
        "colab": {
          "base_uri": "https://localhost:8080/",
          "height": 312
        },
        "outputId": "1c930c4d-b29c-4e87-e1de-57e8459322d5"
      }
    },
    {
      "cell_type": "code",
      "execution_count": null,
      "source": [
        "model2 = keras.models.load_model(\"checkpoint_path.keras\")"
      ],
      "outputs": [],
      "metadata": {
        "id": "h29rKlzBa59V"
      }
    },
    {
      "cell_type": "code",
      "execution_count": null,
      "source": [
        "# scale the test data and predict the result\r\n",
        "x_test3 = x_test.astype('float32')/255\r\n",
        "x_test3 = np.expand_dims(x_test3, axis=-1)\r\n",
        "\r\n",
        "y_predict = model2.predict(x_test3)"
      ],
      "outputs": [],
      "metadata": {
        "id": "BudpYx6NbDpa"
      }
    },
    {
      "cell_type": "code",
      "execution_count": null,
      "source": [
        "df_predict = pd.DataFrame(y_predict, columns=['solution_' + str(i) for i in range(10)])\r\n",
        "df_predict.head()\r\n",
        "df_predict.index.rename('Id', inplace=True)\r\n",
        "df_predict.to_csv('df_predictions.csv')"
      ],
      "outputs": [],
      "metadata": {
        "id": "4jY-tnlZbJ8E"
      }
    },
    {
      "cell_type": "code",
      "execution_count": null,
      "source": [
        "np.argmax(y_predict[65])"
      ],
      "outputs": [
        {
          "output_type": "execute_result",
          "data": {
            "text/plain": [
              "7"
            ]
          },
          "metadata": {
            "tags": []
          },
          "execution_count": 29
        }
      ],
      "metadata": {
        "execution": {
          "iopub.execute_input": "2021-08-06T10:33:55.840282Z",
          "iopub.status.busy": "2021-08-06T10:33:55.839936Z",
          "iopub.status.idle": "2021-08-06T10:33:55.846107Z",
          "shell.execute_reply": "2021-08-06T10:33:55.845262Z",
          "shell.execute_reply.started": "2021-08-06T10:33:55.840251Z"
        },
        "id": "-ewIy3UZC3DQ",
        "colab": {
          "base_uri": "https://localhost:8080/"
        },
        "outputId": "f8a2457f-17ae-44eb-a64e-8b50b6080ac0"
      }
    },
    {
      "cell_type": "code",
      "execution_count": null,
      "source": [
        "plt.imshow(x_test[65])"
      ],
      "outputs": [
        {
          "output_type": "execute_result",
          "data": {
            "text/plain": [
              "<matplotlib.image.AxesImage at 0x7f48f0218cd0>"
            ]
          },
          "metadata": {
            "tags": []
          },
          "execution_count": 78
        },
        {
          "output_type": "display_data",
          "data": {
            "text/plain": [
              "<Figure size 432x288 with 1 Axes>"
            ],
            "image/png": "[encoded data removed]"
          },
          "metadata": {
            "tags": [],
            "needs_background": "light"
          }
        }
      ],
      "metadata": {
        "execution": {
          "iopub.execute_input": "2021-08-06T10:33:56.564788Z",
          "iopub.status.busy": "2021-08-06T10:33:56.564475Z",
          "iopub.status.idle": "2021-08-06T10:33:56.752230Z",
          "shell.execute_reply": "2021-08-06T10:33:56.751462Z",
          "shell.execute_reply.started": "2021-08-06T10:33:56.564760Z"
        },
        "id": "J_pK6nr7C3DQ",
        "colab": {
          "base_uri": "https://localhost:8080/",
          "height": 233
        },
        "outputId": "567a371d-44ca-42d7-aa6a-546d31c09005"
      }
    },
    {
      "cell_type": "markdown",
      "source": [
        "# Journal"
      ],
      "metadata": {
        "id": "lch1EYPKHMgf"
      }
    },
    {
      "cell_type": "markdown",
      "source": [
        "**Submission 1&2 :**\n",
        "\n",
        "Try the code in benchmark1 by applying the FNN and CNN model, which turned out to be high loss rate (5.3 and 3.1)."
      ],
      "metadata": {
        "id": "WRE157q9Uwyv"
      }
    },
    {
      "cell_type": "markdown",
      "source": [
        "**Submission 3&4 ：**\r\n",
        "\r\n",
        "During the breakout room exercise, we improved the model by changing the output layer's activation function from \"sigmod\" to \"softmax\" to better solve the multiple-type classification problem.\r\n",
        "As a result, the score improved from 3.11 to 0.39. \r\n",
        "\r\n",
        "Futhermore, we applyed some advanced techniques:\r\n",
        "\r\n",
        "1. Insert augmentation layer by adding random rotation to the input. (Because we noticed there is rotation in the test data.)\r\n",
        "\r\n",
        "2. Use callback to find the best epoch numbers to construct the model.\r\n",
        "\r\n",
        "3. Use early stopping.\r\n",
        "\r\n",
        "In the end, the result improved to 0.059.\r\n"
      ],
      "metadata": {
        "id": "DeSXg5mPV9e3"
      }
    },
    {
      "cell_type": "markdown",
      "source": [
        "**Submission 4 :**\n",
        "\n",
        "Xiaotong Xu changed the optimizor to \"adam\" and rerun the programme but we found a supprisingly bad result.(The score turned to 1.67)\n"
      ],
      "metadata": {
        "id": "AOks4n7ibC7Y"
      }
    },
    {
      "cell_type": "markdown",
      "source": [
        "**Submission 5 :**\r\n",
        "\r\n",
        "Weihang Fu rerun the same programme shared by Jiehao Wan after the breakroom but we still found a rather significant difference in the score compared with the one in Submission 4. "
      ],
      "metadata": {
        "id": "aRw1hwKGb0cd"
      }
    },
    {
      "cell_type": "markdown",
      "source": [
        "**Submission 6 :**\r\n",
        "\r\n",
        "Jiehao Wan found that switching the position of two numbers in each traing data will not change the output. Therefore we used number switching technique to double the traing data and trained the model.\r\n",
        "\r\n",
        "The score of this submission is 1.80. (Not ideal)"
      ],
      "metadata": {
        "id": "J70BLOsAcTiJ"
      }
    },
    {
      "cell_type": "markdown",
      "source": [
        "** Submission 7 to 15 :**\r\n",
        "\r\n",
        "To improve the result, we did the following modification:\r\n",
        "\r\n",
        "1. Add more convolution layers and increase the neurons in some layers. \r\n",
        "\r\n",
        "2. Change the learning rate\r\n",
        "\r\n",
        "\r\n",
        "3. Add the contrast function in the augumentation layer\r\n",
        "\r\n",
        "\r\n",
        "In the end, the score spread from 0.25 to 4.1, which was not as good as we expect.\r\n",
        "\r\n",
        "\r\n",
        "\r\n"
      ],
      "metadata": {
        "id": "TSbrRX0AWM0E"
      }
    },
    {
      "cell_type": "markdown",
      "source": [
        "**Submission 16 :**\r\n",
        "\r\n",
        "Jiehao Wan found he mistakenly delete a part of code which was originally used to scale the test data after the Submmision 4 . This contributed to the unsatisfactory result before.\r\n",
        "\r\n",
        "We fixed the bug and applyed the newest model architecture we had bulit before.\r\n",
        "\r\n",
        "The result improved from 0.059 to 0.018."
      ],
      "metadata": {
        "id": "X8EatpKifuzo"
      }
    },
    {
      "cell_type": "markdown",
      "source": [
        "**Submission 17：**\n",
        "\n",
        "We used \"Numbers Switching Technique\" again and the result improved from 0.018 to 0.016.\n"
      ],
      "metadata": {
        "id": "7LBoH1gtihLZ"
      }
    },
    {
      "cell_type": "markdown",
      "source": [
        "**Submission 18 :**\r\n",
        "\r\n",
        "By changing the filter size of last Convolution layer form 2 to 3, the result improved to 0.009"
      ],
      "metadata": {
        "id": "zgkSqm-vjxoS"
      }
    },
    {
      "cell_type": "markdown",
      "source": [
        "**Submission 19 :**\n",
        "\n",
        "We did the following modification:\n",
        "\n",
        "1. Let the learning rate of the optimizer decacy along with the number of iterations.\n",
        "2. Increase one more convolotuion layer in the model.\n",
        "\n",
        "The score improved to 0.00895. "
      ],
      "metadata": {
        "id": "B1nuCwOYjx3t"
      }
    },
    {
      "cell_type": "markdown",
      "source": [
        "**Submission 20 to 24 :**\n",
        "\n",
        "Based on the model before, we did the following modification:\n",
        "\n",
        "1. Adjust the size of fliters in the convolution layers.\n",
        "2. Use the batch normalization in the convolution layers.\n",
        "3. Adjust the decacy rate of adam optimizer.\n",
        "\n",
        "The score fluctuated around 0.01."
      ],
      "metadata": {
        "id": "XVWMtyJolP5V"
      }
    }
  ]
}